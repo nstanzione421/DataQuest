{
 "cells": [
  {
   "cell_type": "markdown",
   "metadata": {},
   "source": [
    "# iOS & Android App Analysis\n",
    "\n",
    "\n",
    "We only look to develop free apps, so our business model solely relies on in-app advertising revenue. Therefore, we need to build apps with high-traffic to generate revenue.\n",
    "\n",
    "Our goal for this project is to analyze data to help our developers understand what type of apps are likely to attract more users.\n",
    "    "
   ]
  },
  {
   "cell_type": "code",
   "execution_count": 3,
   "metadata": {},
   "outputs": [],
   "source": [
    "from csv import *\n",
    "def open_data(file):\n",
    "    opened_file = open('/Users/nstanzione/Documents/EDU/DataQuest/Data/' + file)\n",
    "    data_raw = reader(opened_file)\n",
    "    return list(data_raw)\n"
   ]
  },
  {
   "cell_type": "code",
   "execution_count": 4,
   "metadata": {},
   "outputs": [],
   "source": [
    "ios = open_data('AppleStore.csv')\n",
    "android = open_data('googleplaystore.csv')"
   ]
  },
  {
   "cell_type": "markdown",
   "metadata": {},
   "source": [
    "## Data Location\n",
    "\n",
    "iOS Data: [Link](https://www.kaggle.com/ramamet4/app-store-apple-data-set-10k-apps)\n",
    "\n",
    "Android Data: [Link](https://www.kaggle.com/lava18/google-play-store-apps)"
   ]
  },
  {
   "cell_type": "code",
   "execution_count": 5,
   "metadata": {},
   "outputs": [],
   "source": [
    "def explore_data(dataset, start, end, rows_and_columns=False):\n",
    "    dataset_slice = dataset[start:end]    \n",
    "    for row in dataset_slice:\n",
    "        print(row)\n",
    "        print('\\n') # adds a new (empty) line after each row\n",
    "\n",
    "    if rows_and_columns:\n",
    "        print('Number of rows:', len(dataset))\n",
    "        print('Number of columns:', len(dataset[0]))"
   ]
  },
  {
   "cell_type": "code",
   "execution_count": 6,
   "metadata": {},
   "outputs": [
    {
     "name": "stdout",
     "output_type": "stream",
     "text": [
      "['App', 'Category', 'Rating', 'Reviews', 'Size', 'Installs', 'Type', 'Price', 'Content Rating', 'Genres', 'Last Updated', 'Current Ver', 'Android Ver']\n",
      "\n",
      "\n",
      "['', 'id', 'track_name', 'size_bytes', 'currency', 'price', 'rating_count_tot', 'rating_count_ver', 'user_rating', 'user_rating_ver', 'ver', 'cont_rating', 'prime_genre', 'sup_devices.num', 'ipadSc_urls.num', 'lang.num', 'vpp_lic']\n",
      "\n",
      "\n"
     ]
    }
   ],
   "source": [
    "explore_data(android,0,1)\n",
    "explore_data(ios,0,1)"
   ]
  },
  {
   "cell_type": "code",
   "execution_count": 7,
   "metadata": {},
   "outputs": [],
   "source": [
    "del(android[10473])"
   ]
  },
  {
   "cell_type": "code",
   "execution_count": 8,
   "metadata": {},
   "outputs": [
    {
     "name": "stdout",
     "output_type": "stream",
     "text": [
      "['osmino Wi-Fi: free WiFi', 'TOOLS', '4.2', '134203', '4.1M', '10,000,000+', 'Free', '0', 'Everyone', 'Tools', 'August 7, 2018', '6.06.14', '4.4 and up']\n"
     ]
    }
   ],
   "source": [
    "print(android[10473])"
   ]
  },
  {
   "cell_type": "code",
   "execution_count": 9,
   "metadata": {},
   "outputs": [
    {
     "name": "stdout",
     "output_type": "stream",
     "text": [
      "['VR Roller Coaster', 'Mannequin Challenge']\n"
     ]
    }
   ],
   "source": [
    "freq_dist = {}\n",
    "for row in ios:\n",
    "    name = row[2]\n",
    "    if name in freq_dist:\n",
    "        freq_dist[name] += 1\n",
    "    else:\n",
    "        freq_dist[name] = 1\n",
    "\n",
    "duplicates = []\n",
    "for x in freq_dist:\n",
    "    if freq_dist[x] > 1:\n",
    "        duplicates.append(x)\n",
    "        \n",
    "print(duplicates)\n"
   ]
  },
  {
   "cell_type": "code",
   "execution_count": 10,
   "metadata": {},
   "outputs": [
    {
     "name": "stdout",
     "output_type": "stream",
     "text": [
      "['Instagram', 'SOCIAL', '4.5', '66577313', 'Varies with device', '1,000,000,000+', 'Free', '0', 'Teen', 'Social', 'July 31, 2018', 'Varies with device', 'Varies with device']\n",
      "['Instagram', 'SOCIAL', '4.5', '66577446', 'Varies with device', '1,000,000,000+', 'Free', '0', 'Teen', 'Social', 'July 31, 2018', 'Varies with device', 'Varies with device']\n",
      "['Instagram', 'SOCIAL', '4.5', '66577313', 'Varies with device', '1,000,000,000+', 'Free', '0', 'Teen', 'Social', 'July 31, 2018', 'Varies with device', 'Varies with device']\n",
      "['Instagram', 'SOCIAL', '4.5', '66509917', 'Varies with device', '1,000,000,000+', 'Free', '0', 'Teen', 'Social', 'July 31, 2018', 'Varies with device', 'Varies with device']\n"
     ]
    }
   ],
   "source": [
    "for app in android:\n",
    "    name = app[0]\n",
    "    if name == 'Instagram':\n",
    "        print(app)"
   ]
  },
  {
   "cell_type": "code",
   "execution_count": 11,
   "metadata": {},
   "outputs": [
    {
     "name": "stdout",
     "output_type": "stream",
     "text": [
      "Number of duplicate apps: 1181\n",
      "\n",
      "\n",
      "Examples of duplicate apps: ['Quick PDF Scanner + OCR FREE', 'Box', 'Google My Business', 'ZOOM Cloud Meetings', 'join.me - Simple Meetings', 'Box', 'Zenefits', 'Google Ads', 'Google My Business', 'Slack', 'FreshBooks Classic', 'Insightly CRM', 'QuickBooks Accounting: Invoicing & Expenses', 'HipChat - Chat Built for Teams', 'Xero Accounting Software']\n"
     ]
    }
   ],
   "source": [
    "duplicate_apps = []\n",
    "unique_apps = []\n",
    "\n",
    "for app in android:\n",
    "    name = app[0]\n",
    "    if name in unique_apps:\n",
    "        duplicate_apps.append(name)\n",
    "    else:\n",
    "        unique_apps.append(name)\n",
    "\n",
    "print('Number of duplicate apps:', len(duplicate_apps))\n",
    "print('\\n')\n",
    "print('Examples of duplicate apps:', duplicate_apps[:15])\n"
   ]
  },
  {
   "cell_type": "markdown",
   "metadata": {},
   "source": [
    "## Duplicate Analysis\n",
    "\n",
    "As noted in the analysis above, the Google Play dataset has several duplicate records (1,181 duplicate records to be exact). Please note that each of the duplicate apps noted in the list above already has an entry in the \"Unique\" listing. However, we want to ensure that we remove the \"worst\" duplicate rows for a specific app, so we will not just accept the current unique list. One idea of finding the \"best\" record is using the record with the highest number of reviews. For instance, let's review the records for the Slack app. "
   ]
  },
  {
   "cell_type": "code",
   "execution_count": 12,
   "metadata": {},
   "outputs": [
    {
     "name": "stdout",
     "output_type": "stream",
     "text": [
      "['Slack', 'BUSINESS', '4.4', '51507', 'Varies with device', '5,000,000+', 'Free', '0', 'Everyone', 'Business', 'August 2, 2018', 'Varies with device', 'Varies with device']\n",
      "['Slack', 'BUSINESS', '4.4', '51507', 'Varies with device', '5,000,000+', 'Free', '0', 'Everyone', 'Business', 'August 2, 2018', 'Varies with device', 'Varies with device']\n",
      "['Slack', 'BUSINESS', '4.4', '51510', 'Varies with device', '5,000,000+', 'Free', '0', 'Everyone', 'Business', 'August 2, 2018', 'Varies with device', 'Varies with device']\n"
     ]
    }
   ],
   "source": [
    "for app in android:\n",
    "    name = app[0]\n",
    "    if name == 'Slack':\n",
    "        print(app)\n",
    "    "
   ]
  },
  {
   "cell_type": "markdown",
   "metadata": {},
   "source": [
    "As we can see above, we have three Slack app records. The last record has the most reviews, so it appears to be the latest information and the \"best\" record to keep of the three. Looking below,  we now know that we would expect a total of 9,659 records in our \"clean\" dataset without duplicates. Below, we will "
   ]
  },
  {
   "cell_type": "code",
   "execution_count": 13,
   "metadata": {},
   "outputs": [
    {
     "name": "stdout",
     "output_type": "stream",
     "text": [
      "Expected length: 9659\n"
     ]
    }
   ],
   "source": [
    "print('Expected length:',len(android[1:])-1181)"
   ]
  },
  {
   "cell_type": "markdown",
   "metadata": {},
   "source": [
    "## Resolution for Duplicates\n",
    "\n",
    "In order to develop a dataset with proper \"maximum review\" records, we will need to develop a dictionary that stores the maximum number of reviews for each app. Second, we will need to cycle through the original dataset and add the proper app record with the review count that matches the stored maximum number in the dictionary. In addition, we will create a ongoing list to track the last we have already added. This piece is needed to ensure we do not add duplicates for mulitple records of the app with the same maximum review counts."
   ]
  },
  {
   "cell_type": "code",
   "execution_count": 14,
   "metadata": {},
   "outputs": [
    {
     "name": "stdout",
     "output_type": "stream",
     "text": [
      "9659\n"
     ]
    }
   ],
   "source": [
    "reviews_max = {}\n",
    "for app in android[1:]:\n",
    "    name = app[0]\n",
    "    n_reviews = float(app[3])\n",
    "    if name in reviews_max and n_reviews > reviews_max[name]:\n",
    "        reviews_max[name] = n_reviews\n",
    "    if name not in reviews_max:\n",
    "        reviews_max[name] = n_reviews\n",
    "\n",
    "print(len(reviews_max))    "
   ]
  },
  {
   "cell_type": "code",
   "execution_count": 15,
   "metadata": {},
   "outputs": [
    {
     "name": "stdout",
     "output_type": "stream",
     "text": [
      "['Photo Editor & Candy Camera & Grid & ScrapBook', 'ART_AND_DESIGN', '4.1', '159', '19M', '10,000+', 'Free', '0', 'Everyone', 'Art & Design', 'January 7, 2018', '1.0.0', '4.0.3 and up']\n",
      "\n",
      "\n",
      "['U Launcher Lite – FREE Live Cool Themes, Hide Apps', 'ART_AND_DESIGN', '4.7', '87510', '8.7M', '5,000,000+', 'Free', '0', 'Everyone', 'Art & Design', 'August 1, 2018', '1.2.4', '4.0.3 and up']\n",
      "\n",
      "\n",
      "['Sketch - Draw & Paint', 'ART_AND_DESIGN', '4.5', '215644', '25M', '50,000,000+', 'Free', '0', 'Teen', 'Art & Design', 'June 8, 2018', 'Varies with device', '4.2 and up']\n",
      "\n",
      "\n",
      "Number of rows: 9659\n",
      "Number of columns: 13\n"
     ]
    }
   ],
   "source": [
    "android_clean = []\n",
    "already_added = []\n",
    "for app in android[1:]:\n",
    "    name = app[0]\n",
    "    n_reviews = float(app[3])\n",
    "    if n_reviews == reviews_max[name] and name not in already_added:\n",
    "        android_clean.append(app)\n",
    "        already_added.append(name)\n",
    "\n",
    "explore_data(android_clean,0,3,True)"
   ]
  },
  {
   "cell_type": "code",
   "execution_count": 16,
   "metadata": {},
   "outputs": [
    {
     "name": "stdout",
     "output_type": "stream",
     "text": [
      "[]\n"
     ]
    }
   ],
   "source": [
    "freq_dist_ios_id = {}\n",
    "for row in ios:\n",
    "    id = row[1]\n",
    "    if name in freq_dist_ios_id:\n",
    "        freq_dist_ios_id[id] += 1\n",
    "    else:\n",
    "        freq_dist_ios_id[id] = 1\n",
    "\n",
    "duplicates_ios_id = []\n",
    "for x in freq_dist_ios_id:\n",
    "    if freq_dist_ios_id[x] > 1:\n",
    "        duplicates_ios_id.append(x)\n",
    "        \n",
    "print(duplicates_ios_id)\n"
   ]
  },
  {
   "cell_type": "code",
   "execution_count": 17,
   "metadata": {},
   "outputs": [
    {
     "name": "stdout",
     "output_type": "stream",
     "text": [
      "['VR Roller Coaster', 'Mannequin Challenge']\n"
     ]
    }
   ],
   "source": [
    "freq_dist_ios_name = {}\n",
    "for row in ios:\n",
    "    name = row[2]\n",
    "    if name in freq_dist_ios_name:\n",
    "        freq_dist_ios_name[name] += 1\n",
    "    else:\n",
    "        freq_dist_ios_name[name] = 1\n",
    "\n",
    "duplicates_ios_name = []\n",
    "for x in freq_dist_ios_name:\n",
    "    if freq_dist_ios_name[x] > 1:\n",
    "        duplicates_ios_name.append(x)\n",
    "        \n",
    "print(duplicates_ios_name)"
   ]
  },
  {
   "cell_type": "code",
   "execution_count": 18,
   "metadata": {},
   "outputs": [
    {
     "name": "stdout",
     "output_type": "stream",
     "text": [
      "['4000', '952877179', 'VR Roller Coaster', '169523200', 'USD', '0', '107', '102', '3.5', '3.5', '2.0.0', '4+', 'Games', '37', '5', '1', '1']\n",
      "['7579', '1089824278', 'VR Roller Coaster', '240964608', 'USD', '0', '67', '44', '3.5', '4', '0.81', '4+', 'Games', '38', '0', '1', '1']\n",
      "['10751', '1173990889', 'Mannequin Challenge', '109705216', 'USD', '0', '668', '87', '3', '3', '1.4', '9+', 'Games', '37', '4', '1', '1']\n",
      "['10885', '1178454060', 'Mannequin Challenge', '59572224', 'USD', '0', '105', '58', '4', '4.5', '1.0.1', '4+', 'Games', '38', '5', '1', '1']\n"
     ]
    }
   ],
   "source": [
    "for app in ios:\n",
    "    name = app[2]\n",
    "    if name in duplicates_ios_name:\n",
    "        print(app)"
   ]
  },
  {
   "cell_type": "markdown",
   "metadata": {},
   "source": [
    "## Summary of Duplicates\n",
    "\n",
    "Google Play data contained 1,181 duplicate records based on the app name column. We were able to clean the dataset in order to ensure we had the \"best\" unique records.\n",
    "\n",
    "The iOS data from the App store only has 2 duplicate records based on the app name, but there are no duplicates base don the app ID. We will consider the id to be abtter unique identifier and consider these all of the records as unique even though there are two records with a previously existing name."
   ]
  },
  {
   "cell_type": "markdown",
   "metadata": {},
   "source": [
    "## Consideration of Non-English Apps\n",
    "\n",
    "Apple and Google are global companies, so it is understandable that the apps each company has available come in a variety of languages. We will not be much use of analyzing data outside of langauges we understand. One further step we can take to clean the data is to reduce the datsets down to \"english-only\" data. Below we will create two functions:\n",
    "* english: this function will identify if there ar emore than three non-english characters in a given string\n",
    "* create_english: this function leverages the prior function to cycle through a dataset and return new lists with \"english-only\" records."
   ]
  },
  {
   "cell_type": "code",
   "execution_count": 19,
   "metadata": {},
   "outputs": [
    {
     "name": "stdout",
     "output_type": "stream",
     "text": [
      "False\n"
     ]
    }
   ],
   "source": [
    "def english(string):\n",
    "    non_english = []\n",
    "    for char in string:\n",
    "        if ord(char) > 127:\n",
    "            non_english.append(char)\n",
    "    if len(non_english) > 3:\n",
    "        return False\n",
    "    else:\n",
    "        return True\n",
    "        \n",
    "print(english('爱奇艺PPS -《欢乐颂2》电视剧热播'))"
   ]
  },
  {
   "cell_type": "code",
   "execution_count": 20,
   "metadata": {},
   "outputs": [
    {
     "name": "stdout",
     "output_type": "stream",
     "text": [
      "['1', '281656475', 'PAC-MAN Premium', '100788224', 'USD', '3.99', '21292', '26', '4', '4.5', '6.3.5', '4+', 'Games', '38', '5', '10', '1']\n",
      "\n",
      "\n",
      "['2', '281796108', 'Evernote - stay organized', '158578688', 'USD', '0', '161065', '26', '4', '3.5', '8.2.2', '4+', 'Productivity', '37', '5', '23', '1']\n",
      "\n",
      "\n",
      "['3', '281940292', 'WeatherBug - Local Weather, Radar, Maps, Alerts', '100524032', 'USD', '0', '188583', '2822', '3.5', '4.5', '5.0.0', '4+', 'Weather', '37', '5', '3', '1']\n",
      "\n",
      "\n",
      "Number of rows: 6183\n",
      "Number of columns: 17\n",
      "\n",
      "\n",
      "\n",
      "\n",
      "['Photo Editor & Candy Camera & Grid & ScrapBook', 'ART_AND_DESIGN', '4.1', '159', '19M', '10,000+', 'Free', '0', 'Everyone', 'Art & Design', 'January 7, 2018', '1.0.0', '4.0.3 and up']\n",
      "\n",
      "\n",
      "['U Launcher Lite – FREE Live Cool Themes, Hide Apps', 'ART_AND_DESIGN', '4.7', '87510', '8.7M', '5,000,000+', 'Free', '0', 'Everyone', 'Art & Design', 'August 1, 2018', '1.2.4', '4.0.3 and up']\n",
      "\n",
      "\n",
      "['Sketch - Draw & Paint', 'ART_AND_DESIGN', '4.5', '215644', '25M', '50,000,000+', 'Free', '0', 'Teen', 'Art & Design', 'June 8, 2018', 'Varies with device', '4.2 and up']\n",
      "\n",
      "\n",
      "Number of rows: 9614\n",
      "Number of columns: 13\n"
     ]
    }
   ],
   "source": [
    "ios_eng = []\n",
    "android_eng = []\n",
    "def create_english(dataset1=ios,dataset2=android_clean):\n",
    "    for app in dataset1[1:]:\n",
    "        name = app[2]\n",
    "        if english(name):\n",
    "            ios_eng.append(app)\n",
    "    for app in dataset2:\n",
    "        name = app[0]\n",
    "        if english(name):\n",
    "            android_eng.append(app)\n",
    "\n",
    "create_english()\n",
    "            \n",
    "explore_data(ios_eng,0,3,True)\n",
    "print('\\n')\n",
    "print('\\n')\n",
    "explore_data(android_eng,0,3,True)"
   ]
  },
  {
   "cell_type": "markdown",
   "metadata": {},
   "source": [
    "So far in the data cleaning process, we:\n",
    "* Removed inaccurate data\n",
    "* Removed duplicate app entries\n",
    "* Removed non-English apps\n",
    "\n",
    "As we mentioned in the introduction, we only build apps that are free to download and install, and our main source of revenue consists of in-app ads. Our data sets contain both free and non-free apps; we'll need to isolate only the free apps for our analysis.\n",
    "\n",
    "Isolating the free apps will be our last step in the data cleaning process. On the next screen, we're going to start analyzing the data."
   ]
  },
  {
   "cell_type": "code",
   "execution_count": 21,
   "metadata": {
    "scrolled": true
   },
   "outputs": [
    {
     "name": "stdout",
     "output_type": "stream",
     "text": [
      "3222\n",
      "8863\n"
     ]
    }
   ],
   "source": [
    "ios_final = []\n",
    "android_final = []\n",
    "for app in ios_eng:\n",
    "    price = float(app[5])\n",
    "    if price == 0:\n",
    "        ios_final.append(app)\n",
    "for app in android_eng:\n",
    "    type = app[6]\n",
    "    if type == 'Free':\n",
    "        android_final.append(app)\n",
    "\n",
    "print(len(ios_final))\n",
    "print(len(android_final))\n",
    "    "
   ]
  },
  {
   "cell_type": "markdown",
   "metadata": {},
   "source": [
    "## Profitable App Profile\n",
    "\n",
    "As we mentioned in the introduction, our aim is to determine the kinds of apps that are likely to attract more users because our revenue is highly influenced by the number of people using our apps.\n",
    "\n",
    "To minimize risks and overhead, our validation strategy for an app idea is comprised of three steps:\n",
    "\n",
    "* Build a minimal Android version of the app, and add it to Google Play.\n",
    "* If the app has a good response from users, we develop it further.\n",
    "* If the app is profitable after six months, we build an iOS version of the app and add it to the App Store. \n",
    "\n",
    "Because our end goal is to add the app on both Google Play and the App Store, we need to find app profiles that are successful on both markets. For instance, a profile that works well for both markets might be a productivity app that makes use of gamification.\n",
    "\n",
    "We will start this research by analyzing the genere frequency in both the App Store and Google Play Store. For the iOS dataset we will use *prime_genre* and for Android we will use *Category*. To analyze these columns we will build frequency tables to identify which categories have the most existing apps. The code below contains two functiouns to quickly develop sorted data based on a input dataset and known column of interest."
   ]
  },
  {
   "cell_type": "code",
   "execution_count": 30,
   "metadata": {},
   "outputs": [],
   "source": [
    "def freq_table(dataset,index):\n",
    "    table = {}\n",
    "    total = 0\n",
    "    for row in dataset:\n",
    "        total += 1\n",
    "        item = row[index]\n",
    "        if item in table:\n",
    "            table[item] += 1\n",
    "        else:\n",
    "            table[item] = 1\n",
    "    \n",
    "    table_percentages = {}\n",
    "    for key in table:\n",
    "        percentage = (table[key] / total) * 100\n",
    "        table_percentages[key] = percentage \n",
    "    \n",
    "    return table_percentages  \n",
    "\n",
    "def display_table(dataset, index):\n",
    "    table = freq_table(dataset, index)\n",
    "    table_display = []\n",
    "    for key in table:\n",
    "        key_val_as_tuple = (table[key], key)\n",
    "        table_display.append(key_val_as_tuple)\n",
    "\n",
    "    table_sorted = sorted(table_display, reverse = True)\n",
    "    for entry in table_sorted:\n",
    "        print(entry[1], ':', entry[0])\n",
    "\n"
   ]
  },
  {
   "cell_type": "markdown",
   "metadata": {},
   "source": [
    "Now, we will generate the actual frequencies for iOS and then Android."
   ]
  },
  {
   "cell_type": "code",
   "execution_count": 31,
   "metadata": {},
   "outputs": [
    {
     "name": "stdout",
     "output_type": "stream",
     "text": [
      "Games : 58.16263190564867\n",
      "Entertainment : 7.883302296710118\n",
      "Photo & Video : 4.9658597144630665\n",
      "Education : 3.662321539416512\n",
      "Social Networking : 3.2898820608317814\n",
      "Shopping : 2.60707635009311\n",
      "Utilities : 2.5139664804469275\n",
      "Sports : 2.1415270018621975\n",
      "Music : 2.0484171322160147\n",
      "Health & Fitness : 2.0173805090006205\n",
      "Productivity : 1.7380509000620732\n",
      "Lifestyle : 1.5828677839851024\n",
      "News : 1.3345747982619491\n",
      "Travel : 1.2414649286157666\n",
      "Finance : 1.1173184357541899\n",
      "Weather : 0.8690254500310366\n",
      "Food & Drink : 0.8069522036002483\n",
      "Reference : 0.5586592178770949\n",
      "Business : 0.5276225946617008\n",
      "Book : 0.4345127250155183\n",
      "Navigation : 0.186219739292365\n",
      "Medical : 0.186219739292365\n",
      "Catalogs : 0.12414649286157665\n"
     ]
    }
   ],
   "source": [
    "display_table(ios_final,12)"
   ]
  },
  {
   "cell_type": "markdown",
   "metadata": {},
   "source": [
    "We can notice that Games account for 58% free English apps available for iOS users. Entertainment comes in at next highest with 7% of apps. \n",
    "\n",
    "Education with 3.5% is surprising to see, this could be growing segment that could have room for more people using their iOS devices for education as we move to a more connected world. Navigation at less than 1% is not surprising even though it is most likely a \"high-use\" app, users are loyal to a few dominant players. Similar comparison can be made with music at 2%.\n",
    "\n",
    "The data clearly shows that \"entertainment-centric\" apps is an extremely saturated app for the iOS market with a large number of competitors.\n",
    "\n",
    "It is difficult to recommend a genre for our app based on this data alone. It would be nice to see number of user downloads to see which genres have the most downloads. It seems Games would generate the most traffic, but this sector also has the most competition, so may be wise to find another high-download sector with limited number of competitors."
   ]
  },
  {
   "cell_type": "code",
   "execution_count": 32,
   "metadata": {},
   "outputs": [
    {
     "name": "stdout",
     "output_type": "stream",
     "text": [
      "FAMILY : 18.898792733837304\n",
      "GAME : 9.725826469592688\n",
      "TOOLS : 8.462146000225657\n",
      "BUSINESS : 4.592124562789123\n",
      "LIFESTYLE : 3.9038700214374367\n",
      "PRODUCTIVITY : 3.8925871601038025\n",
      "FINANCE : 3.7007785174320205\n",
      "MEDICAL : 3.5315355974275078\n",
      "SPORTS : 3.396141261423897\n",
      "PERSONALIZATION : 3.317161232088458\n",
      "COMMUNICATION : 3.2381812027530184\n",
      "HEALTH_AND_FITNESS : 3.0802211440821394\n",
      "PHOTOGRAPHY : 2.944826808078529\n",
      "NEWS_AND_MAGAZINES : 2.798149610741284\n",
      "SOCIAL : 2.6627552747376737\n",
      "TRAVEL_AND_LOCAL : 2.335552296062281\n",
      "SHOPPING : 2.245289405393208\n",
      "BOOKS_AND_REFERENCE : 2.1437436533904997\n",
      "DATING : 1.8616721200496444\n",
      "VIDEO_PLAYERS : 1.7939749520478394\n",
      "MAPS_AND_NAVIGATION : 1.399074805370642\n",
      "FOOD_AND_DRINK : 1.241114746699763\n",
      "EDUCATION : 1.1621347173643235\n",
      "ENTERTAINMENT : 0.9590432133589079\n",
      "LIBRARIES_AND_DEMO : 0.9364774906916393\n",
      "AUTO_AND_VEHICLES : 0.9251946293580051\n",
      "HOUSE_AND_HOME : 0.8236488773552973\n",
      "WEATHER : 0.8010831546880289\n",
      "EVENTS : 0.7108202640189552\n",
      "PARENTING : 0.6544059573507841\n",
      "ART_AND_DESIGN : 0.6431230960171499\n",
      "COMICS : 0.6205573733498815\n",
      "BEAUTY : 0.5979916506826132\n"
     ]
    }
   ],
   "source": [
    "display_table(android_final,1)"
   ]
  },
  {
   "cell_type": "markdown",
   "metadata": {},
   "source": [
    "We can notice that Family account for 19% free English apps available for iOS users. Games comes in at next highest with 10% of apps.\n",
    "\n",
    "Business with 4.5% is surprising to see, this could be growing segment that could have room for more people using their Android devices for business as we move to a more connected world. This stands out as it seems Android devices may be easier to use G-Suite which is a common business software. On the other hand, as we saw earlier, Apple products seem to to be the preference for education. Art & Design is not surpising to see at the bottom as iOS products have always been geared toward \"creative\" workers. Tools near the top is suprising to see, meaning there may be more options/situations for Android user to use their device. \n",
    "\n",
    "\n",
    "It is difficult to recommend a genre for our app based on this data alone. It would be nice to see number of user downloads to see which genres have the most downloads. Also, we are not quite sure what \"Family\" even means in terms of an app: are they games? tools? businesses? parks?"
   ]
  },
  {
   "cell_type": "code",
   "execution_count": 38,
   "metadata": {},
   "outputs": [
    {
     "name": "stdout",
     "output_type": "stream",
     "text": [
      "Productivity : 21028.410714285714\n",
      "Weather : 52279.892857142855\n",
      "Shopping : 26919.690476190477\n",
      "Reference : 74942.11111111111\n",
      "Finance : 31467.944444444445\n",
      "Music : 57326.530303030304\n",
      "Utilities : 18684.456790123455\n",
      "Travel : 28243.8\n",
      "Social Networking : 71548.34905660378\n",
      "Sports : 23008.898550724636\n",
      "Health & Fitness : 23298.015384615384\n",
      "Games : 22788.6696905016\n",
      "Food & Drink : 33333.92307692308\n",
      "News : 21248.023255813954\n",
      "Book : 39758.5\n",
      "Photo & Video : 28441.54375\n",
      "Entertainment : 14029.830708661417\n",
      "Business : 7491.117647058823\n",
      "Lifestyle : 16485.764705882353\n",
      "Education : 7003.983050847458\n",
      "Navigation : 86090.33333333333\n",
      "Medical : 612.0\n",
      "Catalogs : 4004.0\n"
     ]
    }
   ],
   "source": [
    "prime_genre = freq_table(ios_final,12)\n",
    "\n",
    "for genre in prime_genre:\n",
    "    total = 0\n",
    "    len_genre = 0\n",
    "    for row in ios_final:\n",
    "        genre_app = row[12]\n",
    "        if genre_app == genre:\n",
    "            users = float(row[6])\n",
    "            total += users\n",
    "            len_genre += 1\n",
    "    avg_users = total / len_genre\n",
    "    print(genre, ':', avg_users)\n",
    "\n"
   ]
  },
  {
   "cell_type": "markdown",
   "metadata": {},
   "source": [
    "In reviewing the average users, Games apps had an average user base of 22K. This is fairly average, the highest 6 categories with most users are Navigation, Reference, Social & Networking, Music, Weather, Book.\n",
    "\n",
    "Navigation is dominated by few players like Waze. Social & Networking are complex apps to develop and also concetrated in certain apps like Facebook and Twitter. Music is a similar story with Spotify. Leaving Reference, Weather and Book to consider for as an app. \n",
    "\n",
    "Cross referencing with the frequency table of the most apps, I would recommend a Book app. These apps have a high user base per app and there are not many apps in the iOS store addressing the Free, English market as they account for less than 1% of these apps. There looks to be a market opportunity in this space.\n",
    "\n",
    "*Moving onto the Android data...*"
   ]
  },
  {
   "cell_type": "code",
   "execution_count": 42,
   "metadata": {},
   "outputs": [
    {
     "name": "stdout",
     "output_type": "stream",
     "text": [
      "ART_AND_DESIGN : 1,986,335\n",
      "AUTO_AND_VEHICLES : 647,318\n",
      "BEAUTY : 513,152\n",
      "BOOKS_AND_REFERENCE : 8,767,812\n",
      "BUSINESS : 1,712,290\n",
      "COMICS : 817,657\n",
      "COMMUNICATION : 38,456,119\n",
      "DATING : 854,029\n",
      "EDUCATION : 1,833,495\n",
      "ENTERTAINMENT : 11,640,706\n",
      "EVENTS : 253,542\n",
      "FINANCE : 1,387,692\n",
      "FOOD_AND_DRINK : 1,924,898\n",
      "HEALTH_AND_FITNESS : 4,188,822\n",
      "HOUSE_AND_HOME : 1,331,541\n",
      "LIBRARIES_AND_DEMO : 638,504\n",
      "LIFESTYLE : 1,437,816\n",
      "GAME : 15,588,016\n",
      "FAMILY : 3,697,848\n",
      "MEDICAL : 120,551\n",
      "SOCIAL : 23,253,652\n",
      "SHOPPING : 7,036,877\n",
      "PHOTOGRAPHY : 17,840,110\n",
      "SPORTS : 3,638,640\n",
      "TRAVEL_AND_LOCAL : 13,984,078\n",
      "TOOLS : 10,801,391\n",
      "PERSONALIZATION : 5,201,483\n",
      "PRODUCTIVITY : 16,787,331\n",
      "PARENTING : 542,604\n",
      "WEATHER : 5,074,486\n",
      "VIDEO_PLAYERS : 24,727,872\n",
      "NEWS_AND_MAGAZINES : 9,549,178\n",
      "MAPS_AND_NAVIGATION : 4,056,942\n"
     ]
    }
   ],
   "source": [
    "category = freq_table(android_final,1)\n",
    "\n",
    "for cat in category:\n",
    "    total = 0\n",
    "    len_cat = 0\n",
    "    for row in android_final:\n",
    "        cat_app = row[1]\n",
    "        if cat_app == cat:\n",
    "            est_installs = row[5]\n",
    "            installs_1 = est_installs.replace('+','')\n",
    "            installs_2 = installs_1.replace(',','')\n",
    "            installs = float(installs_2)\n",
    "            total += installs\n",
    "            len_cat += 1\n",
    "    avg_a_users = total / len_cat\n",
    "    print(cat, ':', '{:,.0f}'.format(avg_a_users))"
   ]
  },
  {
   "cell_type": "markdown",
   "metadata": {},
   "source": [
    "In reviewing the number of users, Family and Games have 3M and 15M users per app, respectively. These are high totals; however, looking at the categories with more than 10M users per app: Communication, Video Players, Photography, Productivity, Travel & Local, Game, Entertainment, Tools. Many of these categories will be difficult to break into as they are dominated by a select few players.\n",
    "\n",
    "Books & Reference stands out as a potnetial candidate in the Android data as well. With 9M users per app, and only 2% of the apps in the store in this category, this seems to be a potential market to exploit. Another category with similar attributes is Shopping. This category has 7M users per app and consists of 2% of the apps on the store (similar metrics for iOS).\n",
    "\n",
    "\n",
    "# Conclusion\n",
    "\n",
    "Book and Reference stood out amongst the iOS data as a clear winner. The Android data is much less concentrated in certain genres. The Book and Reference category still had strong data points (higher than average user downloads and limited competition)."
   ]
  }
 ],
 "metadata": {
  "kernelspec": {
   "display_name": "Python 3",
   "language": "python",
   "name": "python3"
  },
  "language_info": {
   "codemirror_mode": {
    "name": "ipython",
    "version": 3
   },
   "file_extension": ".py",
   "mimetype": "text/x-python",
   "name": "python",
   "nbconvert_exporter": "python",
   "pygments_lexer": "ipython3",
   "version": "3.8.5"
  }
 },
 "nbformat": 4,
 "nbformat_minor": 4
}
